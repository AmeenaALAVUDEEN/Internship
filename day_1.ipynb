{
  "nbformat": 4,
  "nbformat_minor": 0,
  "metadata": {
    "colab": {
      "provenance": [],
      "authorship_tag": "ABX9TyNSWnO2/V72DNUcX2liBFIV",
      "include_colab_link": true
    },
    "kernelspec": {
      "name": "python3",
      "display_name": "Python 3"
    },
    "language_info": {
      "name": "python"
    }
  },
  "cells": [
    {
      "cell_type": "markdown",
      "metadata": {
        "id": "view-in-github",
        "colab_type": "text"
      },
      "source": [
        "<a href=\"https://colab.research.google.com/github/AmeenaALAVUDEEN/Internship/blob/main/day_1.ipynb\" target=\"_parent\"><img src=\"https://colab.research.google.com/assets/colab-badge.svg\" alt=\"Open In Colab\"/></a>"
      ]
    },
    {
      "cell_type": "code",
      "execution_count": null,
      "metadata": {
        "colab": {
          "base_uri": "https://localhost:8080/"
        },
        "id": "kKFvviqdCXpH",
        "outputId": "d23953ce-4875-4ef1-c47a-82c257f4121f"
      },
      "outputs": [
        {
          "output_type": "stream",
          "name": "stdout",
          "text": [
            "alfina\n",
            "ameena\n"
          ]
        }
      ],
      "source": [
        "\n",
        "array=['ameena','alfina'];\n",
        "for i in range(len(array)-1,-1,-1): \n",
        "    print(array[i]);\n",
        "\n",
        "      "
      ]
    },
    {
      "cell_type": "code",
      "source": [
        "side=int(input(\"please enter any side of a square :\"))\n",
        "print(\"square star pattern\")\n",
        "for i in range (side) : \n",
        "  for i in range (side):\n",
        "     print('*',end=' ')\n",
        "  print()\n",
        "      \n",
        "  \n"
      ],
      "metadata": {
        "colab": {
          "base_uri": "https://localhost:8080/"
        },
        "id": "S5eEXEHrHyDF",
        "outputId": "b4089dea-4560-4d41-dcbb-6c2bbacb4ad6"
      },
      "execution_count": null,
      "outputs": [
        {
          "output_type": "stream",
          "name": "stdout",
          "text": [
            "please enter any side of a square :4\n",
            "square star pattern\n",
            "* * * * \n",
            "* * * * \n",
            "* * * * \n",
            "* * * * \n"
          ]
        }
      ]
    },
    {
      "cell_type": "code",
      "source": [
        "print(\"python\\n\"*3)"
      ],
      "metadata": {
        "colab": {
          "base_uri": "https://localhost:8080/"
        },
        "id": "hZkhJTVRXDO7",
        "outputId": "81579e37-0f8c-4f3f-fdce-c8a781044d18"
      },
      "execution_count": null,
      "outputs": [
        {
          "output_type": "stream",
          "name": "stdout",
          "text": [
            "python\n",
            "python\n",
            "python\n",
            "\n"
          ]
        }
      ]
    },
    {
      "cell_type": "code",
      "source": [
        "s='python'\n",
        "print(s[0:6:2])"
      ],
      "metadata": {
        "colab": {
          "base_uri": "https://localhost:8080/"
        },
        "id": "sRGp1fZlYIsE",
        "outputId": "aea72810-a657-45f5-85bf-494038975862"
      },
      "execution_count": null,
      "outputs": [
        {
          "output_type": "stream",
          "name": "stdout",
          "text": [
            "pto\n"
          ]
        }
      ]
    },
    {
      "cell_type": "code",
      "source": [
        "print(\"welcome\",end ='!')"
      ],
      "metadata": {
        "colab": {
          "base_uri": "https://localhost:8080/"
        },
        "id": "Uym4WHf2TRrY",
        "outputId": "6615eb38-8204-44aa-96d5-0b1a0bce402b"
      },
      "execution_count": null,
      "outputs": [
        {
          "output_type": "stream",
          "name": "stdout",
          "text": [
            "welcome!"
          ]
        }
      ]
    },
    {
      "cell_type": "code",
      "source": [
        "print(\"\\\"welcome\\\"\")"
      ],
      "metadata": {
        "colab": {
          "base_uri": "https://localhost:8080/"
        },
        "id": "gx_geoPiT0j7",
        "outputId": "d726e198-ccc2-47c8-9096-9d0a674ef77d"
      },
      "execution_count": null,
      "outputs": [
        {
          "output_type": "stream",
          "name": "stdout",
          "text": [
            "\"welcome\"\n"
          ]
        }
      ]
    },
    {
      "cell_type": "code",
      "source": [
        "a=1\n",
        "while a < 10:\n",
        " print(a)\n",
        " a +=2"
      ],
      "metadata": {
        "colab": {
          "base_uri": "https://localhost:8080/"
        },
        "id": "Pvsrd1KtoPQ4",
        "outputId": "6ad66476-f0e8-4271-f855-bf1f3e14325a"
      },
      "execution_count": null,
      "outputs": [
        {
          "output_type": "stream",
          "name": "stdout",
          "text": [
            "1\n",
            "3\n",
            "5\n",
            "7\n",
            "9\n"
          ]
        }
      ]
    },
    {
      "cell_type": "code",
      "source": [
        "for val in \"string\":\n",
        "  if val ==\"i\":\n",
        "    continue\n",
        "    print(val)\n",
        "    print(\"The end\")"
      ],
      "metadata": {
        "id": "UoOEQk0kvov1"
      },
      "execution_count": null,
      "outputs": []
    },
    {
      "cell_type": "code",
      "source": [
        "# menus\n",
        "print(\"Calculator\")\n",
        "print(\"1.Add\")\n",
        "print(\"2.Substract\")\n",
        "print(\"3.Multiply\")\n",
        "print(\"4.Divide\")\n",
        "\n",
        "# input choice\n",
        "ch=int(input(\"Enter Choice(1-4): \"))\n",
        "\n",
        "if ch==1:\n",
        "    a=int(input(\"Enter A:\"))\n",
        "    b=int(input(\"Enter B:\"))\n",
        "    c=a+b\n",
        "    print(\"Sum = \",c)\n",
        "elif ch==2:\n",
        "    a=int(input(\"Enter A:\"))\n",
        "    b=int(input(\"Enter B:\"))\n",
        "    c=a-b\n",
        "    print(\"Difference = \",c)\n",
        "elif  ch==3:\n",
        "    a=int(input(\"Enter A:\"))\n",
        "    b=int(input(\"Enter B:\"))\n",
        "    c=a*b\n",
        "    print(\"Product = \",c)\n",
        "elif ch==4:\n",
        "    a=int(input(\"Enter A:\"))\n",
        "    b=int(input(\"Enter B:\"))\n",
        "    c=a/b\n",
        "    print(\"Quotient = \",c)\n",
        "else:\n",
        "    print(\"Invalid Choice\")\n"
      ],
      "metadata": {
        "colab": {
          "base_uri": "https://localhost:8080/"
        },
        "id": "DYoSv1waw0hR",
        "outputId": "ed40d4b5-e887-460e-82dc-2fa971557d37"
      },
      "execution_count": null,
      "outputs": [
        {
          "output_type": "stream",
          "name": "stdout",
          "text": [
            "Calculator\n",
            "1.Add\n",
            "2.Substract\n",
            "3.Multiply\n",
            "4.Divide\n",
            "Enter Choice(1-4): 4\n",
            "Enter A:3\n",
            "Enter B:4\n",
            "Quotient =  0.75\n"
          ]
        }
      ]
    },
    {
      "cell_type": "code",
      "source": [
        "a=int(input(\"enter the first number 1:-\"))\n",
        "b=int(input(\"enter the second number 2:-\"))\n",
        "print(\"select operation\")\n",
        "print(\"1.addition\")\n",
        "print(\"2.substraction\")\n",
        "print(\"3.multiplication\")\n",
        "print(\"4.division\")\n",
        "n=int(input(\"enter the choice: \"))\n",
        "if(n==1):\n",
        "  r=a+b\n",
        "  print(r)\n",
        "elif(n==2):\n",
        "   r=a-b\n",
        "   print(r)\n",
        "elif(n==3):\n",
        "    r=a*b\n",
        "    print(r)\n",
        "elif(n==4):\n",
        "     r=a/b\n",
        "     print(r)\n",
        "else:\n",
        "       print('wrong input')\n",
        "\n"
      ],
      "metadata": {
        "colab": {
          "base_uri": "https://localhost:8080/"
        },
        "id": "CjM_zhSl0PWK",
        "outputId": "ab8d7e8a-9c0a-4828-e5cc-4d11081058b4"
      },
      "execution_count": null,
      "outputs": [
        {
          "output_type": "stream",
          "name": "stdout",
          "text": [
            "enter the first number 1:-2\n",
            "enter the second number 2:-4\n",
            "select operation\n",
            "1.addition\n",
            "2.substraction\n",
            "3.multiplication\n",
            "4.division\n",
            "enter the choice: 1\n",
            "6\n"
          ]
        }
      ]
    },
    {
      "cell_type": "code",
      "source": [
        "num=int(input(\"Enter the number:\"))\n",
        "c=0\n",
        "i=1\n",
        "while(i<=num):\n",
        "  if num%i==0:\n",
        "    c=c+1\n",
        "    i=i+1\n",
        "    if c==2:\n",
        "      print(\"number is prime\")\n",
        "    else:\n",
        "        print(\"number is not prime\")\n"
      ],
      "metadata": {
        "colab": {
          "base_uri": "https://localhost:8080/"
        },
        "id": "ld0gFD_r5xvm",
        "outputId": "a5802fcc-89c0-4f67-8567-0bf5099e50a0"
      },
      "execution_count": null,
      "outputs": [
        {
          "output_type": "stream",
          "name": "stdout",
          "text": [
            "Enter the number:1\n",
            "number is not prime\n"
          ]
        }
      ]
    },
    {
      "cell_type": "code",
      "source": [
        "year=int(input(\"enter the number:\"))\n",
        "if year%4==0:\n",
        "  print(\"leap year\")\n",
        "elif year%400==0:\n",
        "    print(\"leap year:\")\n",
        "else:\n",
        "    print(\"not leap year\")"
      ],
      "metadata": {
        "colab": {
          "base_uri": "https://localhost:8080/"
        },
        "id": "5xqWChve7lr8",
        "outputId": "4f3e6413-ec68-415c-b36c-493f0b8ee820"
      },
      "execution_count": null,
      "outputs": [
        {
          "output_type": "stream",
          "name": "stdout",
          "text": [
            "enter the number:2024\n",
            "leap year\n"
          ]
        }
      ]
    },
    {
      "cell_type": "code",
      "source": [
        "a=int(input(\"enter the number:\"))\n",
        "s=0\n",
        "for i in range(0,a+1):\n",
        "  s=s+1\n",
        "print(\"The sum is:\",s)\n"
      ],
      "metadata": {
        "colab": {
          "base_uri": "https://localhost:8080/"
        },
        "id": "7AdOHo7r-I2D",
        "outputId": "0469472d-eae0-46d7-c165-8e4d2a40c528"
      },
      "execution_count": null,
      "outputs": [
        {
          "output_type": "stream",
          "name": "stdout",
          "text": [
            "enter the number:12\n",
            "The sum is: 13\n"
          ]
        }
      ]
    },
    {
      "cell_type": "code",
      "source": [
        "def greet():\n",
        "  print('HELLO')\n",
        "  "
      ],
      "metadata": {
        "id": "K9_ekgg9Fyim"
      },
      "execution_count": null,
      "outputs": []
    },
    {
      "cell_type": "code",
      "source": [
        "def addnumber(num1,num2):\n",
        "  sum=num1+num2\n",
        "  print(sum)"
      ],
      "metadata": {
        "id": "gIqvyQUjGAym"
      },
      "execution_count": null,
      "outputs": []
    },
    {
      "cell_type": "code",
      "source": [
        "addnumber(4,5)"
      ],
      "metadata": {
        "colab": {
          "base_uri": "https://localhost:8080/"
        },
        "id": "JJZbz3CNGmn0",
        "outputId": "2213e501-442a-4186-ce8d-f521e887f3ab"
      },
      "execution_count": null,
      "outputs": [
        {
          "output_type": "stream",
          "name": "stdout",
          "text": [
            "9\n"
          ]
        }
      ]
    },
    {
      "cell_type": "code",
      "source": [
        "def squarenumber(num1):\n",
        "  square =num1*num1\n",
        "  print(square)\n",
        "squarenumber(10)"
      ],
      "metadata": {
        "colab": {
          "base_uri": "https://localhost:8080/"
        },
        "id": "iYlAG5gHKHpF",
        "outputId": "2fb8c5b4-3547-4060-f826-1c8de687c187"
      },
      "execution_count": null,
      "outputs": [
        {
          "output_type": "stream",
          "name": "stdout",
          "text": [
            "100\n"
          ]
        }
      ]
    },
    {
      "cell_type": "code",
      "source": [
        "def sqr(a):\n",
        "  print(\"square of the number is :\",a*a)\n",
        "n=int(input(\"enter the number:\"))\n",
        "sqr(n)\n"
      ],
      "metadata": {
        "colab": {
          "base_uri": "https://localhost:8080/"
        },
        "id": "Eudto5-mLH-l",
        "outputId": "969b17dd-0714-48e5-cae8-6a9a333c948a"
      },
      "execution_count": null,
      "outputs": [
        {
          "output_type": "stream",
          "name": "stdout",
          "text": [
            "enter the number:4\n",
            "square of the number is : 16\n"
          ]
        }
      ]
    },
    {
      "cell_type": "code",
      "source": [
        "lst = []\n",
        "n=int(input(\"Enter number of elements : \"))\n",
        "for i in range(0,n):\n",
        "  print(\"Enter elements: \")\n",
        "  ele = int(input())\n",
        "  lst.append(ele) \n",
        "  print(lst)\n",
        "sum = 0\n",
        "for i in lst:\n",
        "  sum += i\n",
        "print(\"Sum of all elements in given list: \",1sum)"
      ],
      "metadata": {
        "colab": {
          "base_uri": "https://localhost:8080/"
        },
        "id": "k89rRVydMRuS",
        "outputId": "17da3b2a-6511-4fe6-f41d-44a30a16f3e9"
      },
      "execution_count": null,
      "outputs": [
        {
          "output_type": "stream",
          "name": "stdout",
          "text": [
            "Enter number of elements : 4\n",
            "Enter elements: \n",
            "3\n",
            "[3]\n",
            "Enter elements: \n",
            "2\n",
            "[3, 2]\n",
            "Enter elements: \n",
            "1\n",
            "[3, 2, 1]\n",
            "Enter elements: \n",
            "5\n",
            "[3, 2, 1, 5]\n",
            "Sum of all elements in given list:  11\n"
          ]
        }
      ]
    },
    {
      "cell_type": "code",
      "source": [
        "string = input(\"Enter the string : \")\n",
        "N=0\n",
        "print(\"length of The String: \",len(string))\n",
        "print(\"First half of the string: \",string[:len(string)//2])"
      ],
      "metadata": {
        "colab": {
          "base_uri": "https://localhost:8080/"
        },
        "id": "tPJBed3g3rJh",
        "outputId": "4f19f5ba-cbce-42e7-a708-df60e174e937"
      },
      "execution_count": null,
      "outputs": [
        {
          "output_type": "stream",
          "name": "stdout",
          "text": [
            "Enter the string : 4\n",
            "length of The String:  1\n",
            "First half of the string:  \n"
          ]
        }
      ]
    },
    {
      "cell_type": "code",
      "source": [
        "str1 = input(\"Enter first string: \")\n",
        "str2 = input(\"Enter second string: \")\n",
        "Add = str1 + str2\n",
        "print(\"Resultant string is:\", Add)\n",
        "print(\"Length of the resultant string is:\",len(Add))"
      ],
      "metadata": {
        "colab": {
          "base_uri": "https://localhost:8080/"
        },
        "id": "Kqg4Pize31s9",
        "outputId": "926c998f-d511-46ae-b20d-a3b6262a7588"
      },
      "execution_count": null,
      "outputs": [
        {
          "output_type": "stream",
          "name": "stdout",
          "text": [
            "Enter first string: 4\n",
            "Enter second string: 8\n",
            "Resultant string is: 48\n",
            "Length of the resultant string is: 2\n"
          ]
        }
      ]
    },
    {
      "cell_type": "code",
      "source": [
        "tup = (78,45,32,19,82,77,40,39)\n",
        "lst = list(tup)\n",
        "lst[2] = 100\n",
        "tup = tuple(lst)\n",
        "print(tup)"
      ],
      "metadata": {
        "colab": {
          "base_uri": "https://localhost:8080/"
        },
        "id": "G4C4LqmJ4kNP",
        "outputId": "73eb8a81-c73d-4a32-e63c-31d819ab55e8"
      },
      "execution_count": null,
      "outputs": [
        {
          "output_type": "stream",
          "name": "stdout",
          "text": [
            "(78, 45, 100, 19, 82, 77, 40, 39)\n"
          ]
        }
      ]
    },
    {
      "cell_type": "code",
      "source": [
        "#list a number\n",
        "lst = [19,32,10,55,31,32,94,29,10,65,77,40,40]\n",
        "lst[9] = 300\n",
        "lst.remove(32)\n",
        "while 40 in lst:\n",
        "    lst.remove(40)\n",
        "del lst[5]\n",
        "print(len(lst))\n",
        "lst[2]+=200\n",
        "s=0\n",
        "for i in lst:\n",
        "  s=s+i\n",
        "print(lst)\n",
        "print(\"Length of list:\", len(lst))\n",
        "print(\"Maximum value in list:\", max(lst))\n",
        "print(\"Sum of all elements in list:\",s)"
      ],
      "metadata": {
        "colab": {
          "base_uri": "https://localhost:8080/"
        },
        "id": "uzGzhXOH4qU1",
        "outputId": "88a8afe8-ba92-4ac3-f47a-c3add97314e3"
      },
      "execution_count": null,
      "outputs": [
        {
          "output_type": "stream",
          "name": "stdout",
          "text": [
            "9\n",
            "[19, 10, 255, 31, 32, 29, 10, 300, 77]\n",
            "Length of list: 9\n",
            "Maximum value in list: 300\n",
            "Sum of all elements in list: 763\n"
          ]
        }
      ]
    },
    {
      "cell_type": "code",
      "source": [],
      "metadata": {
        "id": "1UzDiZmI6G8q"
      },
      "execution_count": null,
      "outputs": []
    }
  ]
}