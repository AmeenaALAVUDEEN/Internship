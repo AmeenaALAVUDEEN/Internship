{
  "nbformat": 4,
  "nbformat_minor": 0,
  "metadata": {
    "colab": {
      "provenance": [],
      "authorship_tag": "ABX9TyPa4xTU/aZStrXFAI2gzu5i",
      "include_colab_link": true
    },
    "kernelspec": {
      "name": "python3",
      "display_name": "Python 3"
    },
    "language_info": {
      "name": "python"
    }
  },
  "cells": [
    {
      "cell_type": "markdown",
      "metadata": {
        "id": "view-in-github",
        "colab_type": "text"
      },
      "source": [
        "<a href=\"https://colab.research.google.com/github/AmeenaALAVUDEEN/Internship/blob/main/day_2.ipynb\" target=\"_parent\"><img src=\"https://colab.research.google.com/assets/colab-badge.svg\" alt=\"Open In Colab\"/></a>"
      ]
    },
    {
      "cell_type": "code",
      "execution_count": null,
      "metadata": {
        "id": "uYWho6Y_BFLc"
      },
      "outputs": [],
      "source": [
        "class student():\n",
        "  def __init__(self,name,marks):\n",
        "    self.name =name\n",
        "    self.marks=marks"
      ]
    },
    {
      "cell_type": "code",
      "source": [
        "students1=student('ameena',13,10)"
      ],
      "metadata": {
        "id": "7F1yWwNFEMld"
      },
      "execution_count": null,
      "outputs": []
    },
    {
      "cell_type": "code",
      "source": [
        "students1.marks"
      ],
      "metadata": {
        "colab": {
          "base_uri": "https://localhost:8080/"
        },
        "id": "ITw-yw8jEjse",
        "outputId": "18018317-7724-4c55-8cc5-6e3333eb3f70"
      },
      "execution_count": null,
      "outputs": [
        {
          "output_type": "execute_result",
          "data": {
            "text/plain": [
              "10"
            ]
          },
          "metadata": {},
          "execution_count": 3
        }
      ]
    },
    {
      "cell_type": "code",
      "source": [
        "class student():\n",
        "  def __init__(cat,name,marks):\n",
        "    cat.name =name\n",
        "    cat.marks=marks"
      ],
      "metadata": {
        "id": "8dCwRKmQErHq"
      },
      "execution_count": null,
      "outputs": []
    },
    {
      "cell_type": "code",
      "source": [
        "students1.roll_no"
      ],
      "metadata": {
        "colab": {
          "base_uri": "https://localhost:8080/"
        },
        "id": "WBCeA0N0F_qv",
        "outputId": "92d3427a-4c69-4fa4-9bb6-6f9dafce4297"
      },
      "execution_count": null,
      "outputs": [
        {
          "output_type": "execute_result",
          "data": {
            "text/plain": [
              "13"
            ]
          },
          "metadata": {},
          "execution_count": 6
        }
      ]
    },
    {
      "cell_type": "code",
      "source": [
        "students1.name"
      ],
      "metadata": {
        "colab": {
          "base_uri": "https://localhost:8080/",
          "height": 36
        },
        "id": "aaRKlKj5GLfo",
        "outputId": "42fd5d53-aa84-4474-f3dd-828068cb0759"
      },
      "execution_count": null,
      "outputs": [
        {
          "output_type": "execute_result",
          "data": {
            "text/plain": [
              "'ameena'"
            ],
            "application/vnd.google.colaboratory.intrinsic+json": {
              "type": "string"
            }
          },
          "metadata": {},
          "execution_count": 7
        }
      ]
    },
    {
      "cell_type": "code",
      "source": [
        "def result(self):\n",
        "  if self.marks>40:\n",
        "    return'pass'\n",
        "  else:\n",
        "      return 'fail'"
      ],
      "metadata": {
        "id": "p6ZZQtC3GQtP"
      },
      "execution_count": null,
      "outputs": []
    },
    {
      "cell_type": "code",
      "source": [
        "s1=student('anuratha',10)\n",
        "s2=student('ameena',20)\n",
        "s3=student('asheetha',30)\n",
        "s4=student('arunima',40)\n"
      ],
      "metadata": {
        "id": "Se1uqG2nHw3o"
      },
      "execution_count": null,
      "outputs": []
    },
    {
      "cell_type": "code",
      "source": [
        "students_name=[s1,s2,s3,s4]"
      ],
      "metadata": {
        "id": "mXTkqxvzJSWV"
      },
      "execution_count": null,
      "outputs": []
    },
    {
      "cell_type": "code",
      "source": [
        "pass_list=[]\n",
        "fail_list=[]\n",
        "sort_list={}\n",
        "for x in students_name:\n",
        "  if x.result()=='pass':\n",
        "    pass_list.append(x.name)\n",
        "    sort_list['pass_list']=pass_list\n",
        "  else:\n",
        "      fail_list.append(x.name)\n",
        "      sort_list['fail_list']=fail_list"
      ],
      "metadata": {
        "colab": {
          "base_uri": "https://localhost:8080/",
          "height": 235
        },
        "id": "8-x8YZufJuHB",
        "outputId": "f49950b8-e6f7-49f9-b012-27a15906bcde"
      },
      "execution_count": null,
      "outputs": [
        {
          "output_type": "error",
          "ename": "AttributeError",
          "evalue": "ignored",
          "traceback": [
            "\u001b[0;31m---------------------------------------------------------------------------\u001b[0m",
            "\u001b[0;31mAttributeError\u001b[0m                            Traceback (most recent call last)",
            "\u001b[0;32m<ipython-input-39-37e629d0d834>\u001b[0m in \u001b[0;36m<cell line: 4>\u001b[0;34m()\u001b[0m\n\u001b[1;32m      3\u001b[0m \u001b[0msort_list\u001b[0m\u001b[0;34m=\u001b[0m\u001b[0;34m{\u001b[0m\u001b[0;34m}\u001b[0m\u001b[0;34m\u001b[0m\u001b[0;34m\u001b[0m\u001b[0m\n\u001b[1;32m      4\u001b[0m \u001b[0;32mfor\u001b[0m \u001b[0mx\u001b[0m \u001b[0;32min\u001b[0m \u001b[0mstudents_name\u001b[0m\u001b[0;34m:\u001b[0m\u001b[0;34m\u001b[0m\u001b[0;34m\u001b[0m\u001b[0m\n\u001b[0;32m----> 5\u001b[0;31m   \u001b[0;32mif\u001b[0m \u001b[0mx\u001b[0m\u001b[0;34m.\u001b[0m\u001b[0mresult\u001b[0m\u001b[0;34m(\u001b[0m\u001b[0;34m)\u001b[0m\u001b[0;34m==\u001b[0m\u001b[0;34m'pass'\u001b[0m\u001b[0;34m:\u001b[0m\u001b[0;34m\u001b[0m\u001b[0;34m\u001b[0m\u001b[0m\n\u001b[0m\u001b[1;32m      6\u001b[0m     \u001b[0mpass_list\u001b[0m\u001b[0;34m.\u001b[0m\u001b[0mappend\u001b[0m\u001b[0;34m(\u001b[0m\u001b[0mx\u001b[0m\u001b[0;34m.\u001b[0m\u001b[0mname\u001b[0m\u001b[0;34m)\u001b[0m\u001b[0;34m\u001b[0m\u001b[0;34m\u001b[0m\u001b[0m\n\u001b[1;32m      7\u001b[0m     \u001b[0msort_list\u001b[0m\u001b[0;34m[\u001b[0m\u001b[0;34m'pass_list'\u001b[0m\u001b[0;34m]\u001b[0m\u001b[0;34m=\u001b[0m\u001b[0mpass_list\u001b[0m\u001b[0;34m\u001b[0m\u001b[0;34m\u001b[0m\u001b[0m\n",
            "\u001b[0;31mAttributeError\u001b[0m: 'student' object has no attribute 'result'"
          ]
        }
      ]
    },
    {
      "cell_type": "code",
      "source": [
        "class circle:\n",
        "  def __init__(self,radius):\n",
        "     self.radius=radius\n",
        "  def area(self):\n",
        "    return 3.14*self.radius**2\n",
        "    def perimeter(self):\n",
        "      return 2*3.14*self.radius\n",
        "      radius=int(input(\"enter the radius\"))\n",
        "      c=circle(radius)\n",
        "      print(\"Area:\",c.area())\n",
        "      print(\"perimeter:\",c.perimeter())\n",
        "\n"
      ],
      "metadata": {
        "id": "NQ6gn9dmPu0Q"
      },
      "execution_count": null,
      "outputs": []
    },
    {
      "cell_type": "code",
      "source": [],
      "metadata": {
        "id": "En51XX1729p_"
      },
      "execution_count": null,
      "outputs": []
    }
  ]
}